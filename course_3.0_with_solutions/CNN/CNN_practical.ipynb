{
 "cells": [
  {
   "cell_type": "markdown",
   "metadata": {},
   "source": [
    "# CNN Practical: Inelastic Neutron Scattering\n",
    "\n",
    "Inelastic neutron scattering (INS) can be used to infer information about the forces present in a material. Neutrons scatter off a sample, exchanging energy with certain fundamental vibrational modes of the sample. These vibraional modes include phonons (interatomic boding forces) and magnons (spin coupling between magnetic nuclei). \n",
    "\n",
    "[Johnstone et al. (2012)](https://journals.aps.org/prl/abstract/10.1103/PhysRevLett.109.237202) have simulated magnon spectra from a double perovskite systems, where INS was used to distinguish between two possible magnetic Hamiltonians of the system. For this practical, we have simulated datasets for each of the possible Hamiltonians. We are going to train a CNN to classify the system correctly."
   ]
  },
  {
   "cell_type": "code",
   "execution_count": 1,
   "metadata": {},
   "outputs": [],
   "source": [
    "# helpers\n",
    "import sys\n",
    "import os\n",
    "import time\n",
    "import h5py\n",
    "import numpy as np\n",
    "import matplotlib.pyplot as plt\n",
    "plt.style.use('ggplot')"
   ]
  },
  {
   "cell_type": "markdown",
   "metadata": {},
   "source": [
    "## Google Cloud Storage Boilerplate\n",
    "\n",
    "The following two cells have some boilerplate to mount the Google Cloud Storage bucket containing the data used for this notebook to your Google Colab file system. **Even you are not using Google Colab, please make sure you run these two cells.** \n",
    "\n",
    "To access the data from Google Colab, you need to:\n",
    "\n",
    "1. Run the first cell;\n",
    "2. Follow the link when prompted (you may be asked to log in with your Google account);\n",
    "3. Copy the Google SDK token back into the prompt and press `Enter`;\n",
    "4. Run the second cell and wait until the data folder appears.\n",
    "\n",
    "If everything works correctly, a new folder called `sciml-workshop-data` should appear in the file browser on the left. Depending on the network speed, this may take one or two minutes. Ignore the warning \"You do not appear to have access to project ...\". If you are running the notebook locally or you have already connected to the bucket, these cells will have no side effects."
   ]
  },
  {
   "cell_type": "code",
   "execution_count": 2,
   "metadata": {},
   "outputs": [],
   "source": [
    "# variables passed to bash; do not change\n",
    "project_id = 'sciml-workshop'\n",
    "bucket_name = 'sciml-workshop'\n",
    "colab_data_path = '/content/sciml-workshop-data/'\n",
    "\n",
    "try:\n",
    "    from google.colab import auth\n",
    "    auth.authenticate_user()\n",
    "    google_colab_env = 'true'\n",
    "    data_path = colab_data_path + 'sciml-workshop/'\n",
    "except:\n",
    "    google_colab_env = 'false'\n",
    "    ###################################################\n",
    "    ######## specify your local data path here ########\n",
    "    ###################################################\n",
    "    with open('../local_data_path.txt', 'r') as f: data_path = f.read().splitlines()[0]"
   ]
  },
  {
   "cell_type": "code",
   "execution_count": 3,
   "metadata": {},
   "outputs": [
    {
     "name": "stdout",
     "output_type": "stream",
     "text": [
      "Running notebook locally.\n"
     ]
    }
   ],
   "source": [
    "%%bash -s {google_colab_env} {colab_data_path} {bucket_name} \n",
    "\n",
    "# running locally\n",
    "if ! $1; then\n",
    "    echo \"Running notebook locally.\"\n",
    "    exit\n",
    "fi\n",
    "\n",
    "# already mounted\n",
    "if [ -d $2 ]; then\n",
    "    echo \"Data already mounted.\"\n",
    "    exit\n",
    "fi\n",
    "\n",
    "apt -qq update\n",
    "apt -qq install s3fs fuse\n",
    "mkdir -p $2\n",
    "s3fs $3 $2 -o allow_other,use_path_request_style,no_check_certificate,public_bucket=1,ssl_verify_hostname=0,host=https://s3.echo.stfc.ac.uk,url=https://s3.echo.stfc.ac.uk"
   ]
  },
  {
   "cell_type": "markdown",
   "metadata": {},
   "source": [
    "---"
   ]
  },
  {
   "cell_type": "markdown",
   "metadata": {},
   "source": [
    "# The dataset\n",
    "\n",
    "We have already split the data into training and validation sets and saved them into two HDF5 files, `ins-data/train.h5` and `ins-data/test.h5`, containing respectively 20,000 and 6,676 INS images and their one-hot encoded labels identifying an image as either being of the *Dimer* or *Goodenough* Hamiltonian. "
   ]
  },
  {
   "cell_type": "markdown",
   "metadata": {},
   "source": [
    "### The `torch.utils.data.Dataset` class\n",
    "The number of images is so large that we may not be able to simultaneously load the whole dataset into memory on a small machine. To solve this issue, we will load the data from disk on the fly when required (at the cost of training time)."
   ]
  },
  {
   "cell_type": "code",
   "execution_count": 4,
   "metadata": {},
   "outputs": [
    {
     "name": "stdout",
     "output_type": "stream",
     "text": [
      "Number of training samples: 20000\n",
      "Number of test samples: 6676\n",
      "Images: torch.Size([64, 1, 20, 200]) Labels: torch.Size([64, 2])\n"
     ]
    }
   ],
   "source": [
    "# define image size\n",
    "from PIL import Image\n",
    "import torch\n",
    "from torch.utils.data import Dataset, IterableDataset, DataLoader\n",
    "from torchvision import transforms as T\n",
    "        \n",
    "class HDF5IterableDataset(IterableDataset):\n",
    "    \n",
    "    def __init__(self, path, batch_size=64, image_transform=None, target_transform=None):\n",
    "        super().__init__()\n",
    "        \n",
    "        self.path = path\n",
    "        self.batch_size = batch_size\n",
    "        \n",
    "        self.image_transform = image_transform\n",
    "        self.target_transform = target_transform\n",
    "        \n",
    "    def __len__(self, ):\n",
    "        with h5py.File(self.path, 'r') as handle:\n",
    "            n_samples = handle['images'].shape[0]\n",
    "        return n_samples\n",
    "\n",
    "    def hdf_generator(self):\n",
    "        \"\"\"Generator that yields batches of noisy and clean data.\"\"\"\n",
    "        with h5py.File(self.path, 'r') as handle:\n",
    "            n_samples, h, w, c = handle['images'].shape\n",
    "            for i in range(0, n_samples, self.batch_size):\n",
    "                images = handle['images'][i:i + self.batch_size].astype(np.float32)\n",
    "                labels = handle['labels'][i:i + self.batch_size].astype(np.float32)\n",
    "                \n",
    "                images = torch.from_numpy(images).permute(0, 3, 1, 2)\n",
    "                \n",
    "                if self.image_transform is not None:\n",
    "                    images = self.image_transform(images)\n",
    "        \n",
    "                if self.target_transform is not None:\n",
    "                    labels = self.target_transform(labels)\n",
    "            \n",
    "                yield images, labels\n",
    "\n",
    "    def __iter__(self):\n",
    "        \"\"\"Returns an iterator over the dataset.\"\"\"\n",
    "        return iter(self.hdf_generator())\n",
    "        \n",
    "    def __getitem__(self, index):\n",
    "\n",
    "        if self.load_h5:\n",
    "            img = self.images[index].astype(np.float32)\n",
    "            label = self.labels[index].astype(np.float32)\n",
    "        else:\n",
    "            with h5py.File(self.file_path, 'r') as handle:\n",
    "                img = handle['images'][index].astype(np.float32)\n",
    "                label = handle['labels'][index].astype(np.float32)\n",
    "\n",
    "        img = torch.from_numpy(img).permute(2, 0, 1)\n",
    "        \n",
    "        if self.image_transform is not None:\n",
    "            img = self.image_transform(img)\n",
    "\n",
    "        if self.target_transform is not None:\n",
    "            label = self.target_transform(label)\n",
    "\n",
    "        return img, label\n",
    "\n",
    "batch_size = 64\n",
    "train_dataset = HDF5IterableDataset(data_path + 'sciml-workshop/ins-data/train.h5', batch_size=batch_size)\n",
    "test_dataset = HDF5IterableDataset(data_path + 'sciml-workshop/ins-data/test.h5', batch_size=batch_size)\n",
    "\n",
    "print(\"Number of training samples:\", len(train_dataset))\n",
    "print(\"Number of test samples:\", len(test_dataset))\n",
    "\n",
    "# Create dataloader to load the dataset during training\n",
    "train_dataloader = DataLoader(train_dataset, batch_size=None, shuffle=False)\n",
    "test_dataloader = DataLoader(test_dataset, batch_size=None, shuffle=False)\n",
    "\n",
    "# Verify dataloader is working\n",
    "for X, y in train_dataloader:\n",
    "    print(\"Images:\", X.shape, \"Labels:\", y.shape)\n",
    "    break"
   ]
  },
  {
   "cell_type": "markdown",
   "metadata": {},
   "source": [
    "### Load and use data\n",
    "\n",
    "In the following cell, we will load the first buffer (with 32 data by default) to memory and plot some images and labels from it:"
   ]
  },
  {
   "cell_type": "code",
   "execution_count": 5,
   "metadata": {},
   "outputs": [
    {
     "data": {
      "image/png": "[encoded data removed]",
      "text/plain": [
       "<Figure size 1600x666.667 with 10 Axes>"
      ]
     },
     "metadata": {},
     "output_type": "display_data"
    }
   ],
   "source": [
    "# load the first buffer (with 32 data by default)\n",
    "images, labels = next(iter(test_dataloader))\n",
    "\n",
    "# plot some images and labels from it\n",
    "nplot = 10\n",
    "fig, axes = plt.subplots(nplot // 2, 2, figsize=(16, nplot / 1.5), dpi=100)\n",
    "for ax, image, label in zip(axes.flatten(), images, labels):\n",
    "    ax.matshow(np.squeeze(image.numpy()))\n",
    "    ax.set_xlabel('0: Dimer' if label[0] < .5 else '1: Goodenough', c='k')\n",
    "    ax.set_xticks([])\n",
    "    ax.set_yticks([])"
   ]
  },
  {
   "cell_type": "markdown",
   "metadata": {},
   "source": [
    "# Classification by CNN\n",
    "\n",
    "The task is to build and train a CNN to solve this binary classification problem. \n",
    "\n",
    "## 1. Network architecture\n",
    "\n",
    "First, design the network architecture. Note that the image height is quite small, so we need to preserve the image size by passing `padding='same'` to `Conv2D`. A suggested architecture is provided:\n",
    "\n",
    "- Conv2D\n",
    " - 8 filters\n",
    " - kernel size 5$\\times$5\n",
    " - ReLU activation\n",
    "- MaxPool2D \n",
    "- BatchNormalization\n",
    "- Conv2D \n",
    " - 16 filters\n",
    " - kernel size 3$\\times$3\n",
    " - ReLU activation\n",
    "- MaxPool2D\n",
    "- BatchNormalization\n",
    "- Conv2D \n",
    " - 16 filters\n",
    " - kernel size 3$\\times$3\n",
    " - ReLU activation\n",
    "- MaxPool2D\n",
    "- BatchNormalization\n",
    "- Flatten \n",
    "- Dense\n",
    " - 16 units\n",
    " - ReLU activation\n",
    "- Dense\n",
    " - 8 units\n",
    " - ReLU activation\n",
    "- Dense\n",
    " - N classes units\n",
    " - sigmoid activation\n"
   ]
  },
  {
   "cell_type": "code",
   "execution_count": 6,
   "metadata": {
    "scrolled": true
   },
   "outputs": [],
   "source": [
    "import torch\n",
    "from torch import nn\n",
    "from torch.nn import functional as F\n",
    "\n",
    "def conv2_layer(in_features, out_features, kernel_size, padding='same'):\n",
    "    return nn.Sequential(\n",
    "            nn.Conv2d(in_features, out_features, kernel_size=kernel_size, padding=padding),\n",
    "            nn.ReLU(),\n",
    "            nn.MaxPool2d(kernel_size=2),\n",
    "            nn.BatchNorm2d(out_features),\n",
    "        )\n",
    "\n",
    "def mlp_layer(input_dim, output_dim, hidden_dims=[16, 8]):\n",
    "    return nn.Sequential(\n",
    "            nn.Linear(input_dim, hidden_dims[0]),\n",
    "            nn.ReLU(),\n",
    "            nn.Linear(hidden_dims[0], hidden_dims[1]),\n",
    "            nn.ReLU(),\n",
    "            nn.Linear(hidden_dims[1], output_dim),\n",
    "            nn.Sigmoid()\n",
    "        )\n",
    "\n",
    "class CNN_Model(nn.Module):\n",
    "    def __init__(self, input_dim=1, output_dim=2, dropout=0.0):\n",
    "        super().__init__()\n",
    "\n",
    "        self.layer1 = conv2_layer(input_dim, 8, 5)\n",
    "        self.layer2 = conv2_layer(8, 16, 3)\n",
    "        self.layer3 = conv2_layer(16, 16, 3)\n",
    "        \n",
    "        self.avgpool = nn.AdaptiveAvgPool2d(output_size=(1, 1))\n",
    "\n",
    "        self.flatten = nn.Flatten(start_dim=1)\n",
    "        \n",
    "        self.mlp = mlp_layer(16, output_dim, hidden_dims=[16, 8])\n",
    "\n",
    "    def forward(self, x):\n",
    "        \n",
    "        x = self.layer1(x)\n",
    "        x = self.layer2(x)\n",
    "        x = self.layer3(x)\n",
    "        x = self.avgpool(x)\n",
    "        x = self.flatten(x)\n",
    "        x = self.mlp(x)\n",
    "        \n",
    "        return x"
   ]
  },
  {
   "cell_type": "markdown",
   "metadata": {},
   "source": [
    "### Create and compile the model"
   ]
  },
  {
   "cell_type": "code",
   "execution_count": 7,
   "metadata": {},
   "outputs": [
    {
     "name": "stdout",
     "output_type": "stream",
     "text": [
      "CNN_Model(\n",
      "  (layer1): Sequential(\n",
      "    (0): Conv2d(1, 8, kernel_size=(5, 5), stride=(1, 1), padding=same)\n",
      "    (1): ReLU()\n",
      "    (2): MaxPool2d(kernel_size=2, stride=2, padding=0, dilation=1, ceil_mode=False)\n",
      "    (3): BatchNorm2d(8, eps=1e-05, momentum=0.1, affine=True, track_running_stats=True)\n",
      "  )\n",
      "  (layer2): Sequential(\n",
      "    (0): Conv2d(8, 16, kernel_size=(3, 3), stride=(1, 1), padding=same)\n",
      "    (1): ReLU()\n",
      "    (2): MaxPool2d(kernel_size=2, stride=2, padding=0, dilation=1, ceil_mode=False)\n",
      "    (3): BatchNorm2d(16, eps=1e-05, momentum=0.1, affine=True, track_running_stats=True)\n",
      "  )\n",
      "  (layer3): Sequential(\n",
      "    (0): Conv2d(16, 16, kernel_size=(3, 3), stride=(1, 1), padding=same)\n",
      "    (1): ReLU()\n",
      "    (2): MaxPool2d(kernel_size=2, stride=2, padding=0, dilation=1, ceil_mode=False)\n",
      "    (3): BatchNorm2d(16, eps=1e-05, momentum=0.1, affine=True, track_running_stats=True)\n",
      "  )\n",
      "  (avgpool): AdaptiveAvgPool2d(output_size=(1, 1))\n",
      "  (flatten): Flatten(start_dim=1, end_dim=-1)\n",
      "  (mlp): Sequential(\n",
      "    (0): Linear(in_features=16, out_features=16, bias=True)\n",
      "    (1): ReLU()\n",
      "    (2): Linear(in_features=16, out_features=8, bias=True)\n",
      "    (3): ReLU()\n",
      "    (4): Linear(in_features=8, out_features=2, bias=True)\n",
      "    (5): Sigmoid()\n",
      "  )\n",
      ")\n",
      "Inputs: torch.Size([8, 1, 20, 200])\n",
      "Outputs: torch.Size([8, 2])\n"
     ]
    }
   ],
   "source": [
    "# Create the model\n",
    "model = CNN_Model(input_dim=1)\n",
    "print(model)\n",
    "\n",
    "# Compile the model using a dummy input with batch size 1\n",
    "inputs = torch.rand((8, 1, 20, 200))\n",
    "print('Inputs:', inputs.size())\n",
    "outputs = model(inputs)\n",
    "print('Outputs:', outputs.size())"
   ]
  },
  {
   "cell_type": "markdown",
   "metadata": {},
   "source": [
    "## 2.  Define loss and optimizers"
   ]
  },
  {
   "cell_type": "code",
   "execution_count": 8,
   "metadata": {},
   "outputs": [],
   "source": [
    "# define loss function\n",
    "loss_fn = nn.CrossEntropyLoss()\n",
    "\n",
    "# create a optimizer with constant learning rate of 0.001\n",
    "optimizer = torch.optim.Adam(model.parameters(), lr=1e-3)"
   ]
  },
  {
   "cell_type": "markdown",
   "metadata": {},
   "source": [
    "## 3. Train the model\n",
    "\n",
    "Using the suggested architecture, we can achieve an accuracy greater than 95% with 2 epochs. \n"
   ]
  },
  {
   "cell_type": "code",
   "execution_count": 9,
   "metadata": {},
   "outputs": [
    {
     "name": "stdout",
     "output_type": "stream",
     "text": [
      "\n",
      "Epoch 1/20: "
     ]
    },
    {
     "name": "stderr",
     "output_type": "stream",
     "text": [
      "/home/ubuntu/miniconda3/envs/sciml-workshop/lib/python3.10/site-packages/torch/nn/modules/conv.py:456: UserWarning: Applied workaround for CuDNN issue, install nvrtc.so (Triggered internally at ../aten/src/ATen/native/cudnn/Conv_v8.cpp:80.)\n",
      "  return F.conv2d(input, weight, bias, self.stride,\n"
     ]
    },
    {
     "name": "stdout",
     "output_type": "stream",
     "text": [
      "train_loss: 0.009, train_accuracy: 77.44%, test_accuracy: 90.38%\n",
      "\n",
      "Epoch 2/20: train_loss: 0.006, train_accuracy: 92.59%, test_accuracy: 94.28%\n",
      "\n",
      "Epoch 3/20: train_loss: 0.006, train_accuracy: 94.98%, test_accuracy: 91.58%\n",
      "\n",
      "Epoch 4/20: train_loss: 0.006, train_accuracy: 95.94%, test_accuracy: 94.40%\n",
      "\n",
      "Epoch 5/20: train_loss: 0.005, train_accuracy: 96.21%, test_accuracy: 94.05%\n",
      "\n",
      "Epoch 6/20: train_loss: 0.005, train_accuracy: 96.49%, test_accuracy: 95.96%\n",
      "\n",
      "Epoch 7/20: train_loss: 0.005, train_accuracy: 97.31%, test_accuracy: 96.63%\n",
      "\n",
      "Epoch 8/20: train_loss: 0.005, train_accuracy: 97.48%, test_accuracy: 96.38%\n",
      "\n",
      "Epoch 9/20: train_loss: 0.005, train_accuracy: 97.27%, test_accuracy: 95.45%\n",
      "\n",
      "Epoch 10/20: train_loss: 0.005, train_accuracy: 97.45%, test_accuracy: 96.24%\n",
      "\n",
      "Epoch 11/20: train_loss: 0.005, train_accuracy: 97.19%, test_accuracy: 97.35%\n",
      "\n",
      "Epoch 12/20: train_loss: 0.005, train_accuracy: 97.45%, test_accuracy: 95.78%\n",
      "\n",
      "Epoch 13/20: train_loss: 0.005, train_accuracy: 97.79%, test_accuracy: 93.90%\n",
      "\n",
      "Epoch 14/20: train_loss: 0.005, train_accuracy: 97.76%, test_accuracy: 97.26%\n",
      "\n",
      "Epoch 15/20: train_loss: 0.005, train_accuracy: 98.23%, test_accuracy: 95.99%\n",
      "\n",
      "Epoch 16/20: train_loss: 0.005, train_accuracy: 98.20%, test_accuracy: 97.75%\n",
      "\n",
      "Epoch 17/20: train_loss: 0.005, train_accuracy: 97.96%, test_accuracy: 96.03%\n",
      "\n",
      "Epoch 18/20: train_loss: 0.005, train_accuracy: 98.19%, test_accuracy: 96.97%\n",
      "\n",
      "Epoch 19/20: train_loss: 0.005, train_accuracy: 98.13%, test_accuracy: 97.51%\n",
      "\n",
      "Epoch 20/20: train_loss: 0.005, train_accuracy: 98.19%, test_accuracy: 97.69%\n",
      "Done in 113.249secs!\n"
     ]
    }
   ],
   "source": [
    "# define a train function\n",
    "def train(dataloader, model, loss_fn, optimizer, device):\n",
    "    \n",
    "    size = len(dataloader.dataset)\n",
    "    num_batches = len(dataloader)\n",
    "    model.train()\n",
    "    \n",
    "    train_loss, train_accuracy = 0, 0\n",
    "    for batch, (X, y) in enumerate(dataloader):\n",
    "\n",
    "        # place tensors to device\n",
    "        X, target_y = X.to(device), y.to(device)\n",
    "\n",
    "        # Forward pass \n",
    "        pred_y = model(X)\n",
    "\n",
    "        # compute loss\n",
    "        loss = loss_fn(pred_y, target_y)\n",
    "\n",
    "        # Backpropagation\n",
    "        loss.backward()\n",
    "        optimizer.step()\n",
    "        optimizer.zero_grad()\n",
    "\n",
    "        train_accuracy += (pred_y.argmax(1) == target_y.argmax(1)).type(torch.float).sum().item()\n",
    "        train_loss += loss.detach().item()\n",
    "    \n",
    "    train_loss /= num_batches\n",
    "    train_accuracy /= size\n",
    "    \n",
    "    return train_loss, train_accuracy\n",
    "\n",
    "# define a test function to evaluate the model\n",
    "def test(dataloader, model, loss_fn, device):\n",
    "    # set the model to eval mode\n",
    "    model.eval()\n",
    "    \n",
    "    size = len(dataloader.dataset)\n",
    "    num_batches = len(dataloader)\n",
    "    test_loss, test_accuracy = 0, 0\n",
    "    with torch.no_grad():\n",
    "        for X, y in dataloader:\n",
    "            X, target_y = X.to(device), y.to(device)\n",
    "            \n",
    "            # inference/prediction\n",
    "            pred_y = model(X)\n",
    "\n",
    "            # compute test loss and accuracy\n",
    "            test_loss += loss_fn(pred_y, target_y).item()\n",
    "            test_accuracy += (pred_y.argmax(1) == target_y.argmax(1)).type(torch.float).sum().item()\n",
    "            \n",
    "    test_loss /= num_batches\n",
    "    test_accuracy /= size\n",
    "\n",
    "    return test_loss, test_accuracy\n",
    "\n",
    "def trainer(model, train_dataloader, test_dataloader, optimizer, loss_fn, epochs, device):\n",
    "    \n",
    "    start = time.time()\n",
    "    \n",
    "    h = dict(train_loss=[], test_loss=[], train_accuracy=[], test_accuracy=[])\n",
    "    \n",
    "    for t in range(epochs):\n",
    "        print(f\"\\nEpoch {t+1}/{epochs}: \", end='')\n",
    "        \n",
    "        train_loss, train_accuracy = train(train_dataloader, model, loss_fn, optimizer, device)\n",
    "\n",
    "        test_loss, test_accuracy = test(test_dataloader, model, loss_fn, device)\n",
    "        print(f\"train_loss: {train_loss:0.3f}, train_accuracy: {(100*train_accuracy):0.2f}%, test_accuracy: {(100*test_accuracy):0.2f}%\")\n",
    "\n",
    "        # print(f\"Test Accuracy: {(100*test_accuracy):0.2f}%, Test Loss: {test_loss:0.3f}\")\n",
    "\n",
    "        h['train_loss'].append(train_loss)\n",
    "        h['test_loss'].append(test_loss)\n",
    "        h['train_accuracy'].append(train_accuracy)\n",
    "        h['test_accuracy'].append(test_accuracy)\n",
    "\n",
    "    print(f\"Done in {time.time()-start:.3f}secs!\")\n",
    "    \n",
    "    return h\n",
    "\n",
    "epochs = 20\n",
    "\n",
    "# Run the training on GPU if available \n",
    "device = 'cuda' if torch.cuda.is_available() else 'cpu'\n",
    "\n",
    "model = CNN_Model(input_dim=1).to(device)\n",
    "\n",
    "loss_fn = nn.CrossEntropyLoss()\n",
    "optimizer = torch.optim.Adam(model.parameters(), lr=1e-3)\n",
    "\n",
    "history = trainer(model, train_dataloader, test_dataloader, optimizer, loss_fn, epochs, device)"
   ]
  },
  {
   "cell_type": "markdown",
   "metadata": {},
   "source": [
    "## 4. More exercises\n",
    "\n",
    "If you have completed all of these exercises, you may like to return to the [CNN_basics.ipynb](CNN_basics.ipynb) notebook and attempt some of the exercises there."
   ]
  },
  {
   "cell_type": "code",
   "execution_count": null,
   "metadata": {},
   "outputs": [],
   "source": []
  }
 ],
 "metadata": {
  "kernelspec": {
   "display_name": "sciml-workshop",
   "language": "python",
   "name": "sciml-workshop"
  },
  "language_info": {
   "codemirror_mode": {
    "name": "ipython",
    "version": 3
   },
   "file_extension": ".py",
   "mimetype": "text/x-python",
   "name": "python",
   "nbconvert_exporter": "python",
   "pygments_lexer": "ipython3",
   "version": "3.10.13"
  }
 },
 "nbformat": 4,
 "nbformat_minor": 4
}
